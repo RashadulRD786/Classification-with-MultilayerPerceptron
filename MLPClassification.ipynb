{
 "cells": [
  {
   "cell_type": "code",
   "execution_count": 1,
   "id": "6877880d-05ff-453f-b177-6af29eb33f4a",
   "metadata": {},
   "outputs": [],
   "source": [
    "import numpy as np\n",
    "import matplotlib.pyplot as plt\n",
    "from sklearn.datasets import make_circles\n",
    "from sklearn.neural_network import MLPClassifier\n",
    "import ipywidgets as widgets\n",
    "from IPython.display import display\n",
    "from ipywidgets import interactive, IntSlider, widgets, Button"
   ]
  },
  {
   "cell_type": "code",
   "execution_count": 2,
   "id": "c888ab4c-0043-4509-9c9d-ebd32098d454",
   "metadata": {},
   "outputs": [],
   "source": [
    "#Function to update and display the plot\n",
    "def update_plot(hidden_layer_size):\n",
    "    #Generate synthetic data (circle)\n",
    "    X, y = make_circles(n_samples=300, noise=0.1, factor=0.5, random_state=0)\n",
    "\n",
    "    #Create a multi-layer perceptron (MLP) classifier\n",
    "    clf = MLPClassifier(hidden_layer_sizes=(hidden_layer_size,), activation='relu', max_iter=3000, random_state=1)\n",
    "\n",
    "    #Fit the classifier to the data\n",
    "    clf.fit(X, y)\n",
    "\n",
    "    #Create a grid of points for visualization\n",
    "    x_vals = np.linspace(X[:, 0].min() - 0.1, X[:, 0].max() + 0.1, 100)\n",
    "    y_vals = np.linspace(X[:, 1].min() - 0.1, X[:, 1].max() + 0.1, 100)\n",
    "    X_plane, Y_plane = np.meshgrid(x_vals, y_vals)\n",
    "\n",
    "    grid_points = np.column_stack((X_plane.ravel(), Y_plane.ravel()))\n",
    "\n",
    "    #Predict class labels for the grid points\n",
    "    Z = clf.predict(grid_points)\n",
    "    Z = Z.reshape(X_plane.shape)\n",
    "\n",
    "    #Clear previous plot\n",
    "    plt.clf()\n",
    "\n",
    "    #Plot the decision boundary\n",
    "    plt.contourf(X_plane, Y_plane, Z, levels=[-0.5, 0.5, 1.5], cmap=plt.cm.RdYlGn, alpha=0.6)\n",
    "    plt.scatter(X[:, 0], X[:, 1], c=y, cmap=plt.cm.RdYlGn)\n",
    "    plt.xlabel('Feature 1')\n",
    "    plt.ylabel('Feature 2')\n",
    "    plt.title(f\"Decision Boundary Visualization for Circle Data\\n(Hidden Layer Size = ({hidden_layer_size}))\")\n",
    "    plt.show()\n"
   ]
  },
  {
   "cell_type": "code",
   "execution_count": 3,
   "id": "5768b455-821c-4d3b-8564-d44abccf031d",
   "metadata": {},
   "outputs": [
    {
     "data": {
      "application/vnd.jupyter.widget-view+json": {
       "model_id": "93aebfa1c1fe471eaa6fbb8eda6c8e82",
       "version_major": 2,
       "version_minor": 0
      },
      "text/plain": [
       "interactive(children=(IntSlider(value=2, description='Hidden Layer Size', max=10, min=1), Output()), _dom_clas…"
      ]
     },
     "metadata": {},
     "output_type": "display_data"
    }
   ],
   "source": [
    "#Create a slider for hidden layer size\n",
    "\n",
    "hidden_layer_size_slider= widgets.IntSlider (value=2, min=1, max=10, step=1, description='Hidden Layer Size')\n",
    "\n",
    "#Create a submit button\n",
    "submit_button = widgets.Button (description='Submit')\n",
    "\n",
    "#Define a callback function for the submit button\n",
    "def submit_button_callback (button):\n",
    "    update_plot (hidden_layer_size_slider.value)\n",
    "\n",
    "\n",
    "\n",
    "#submit_button.on_click(submit_button_callback)\n",
    "\n",
    "#Create an interactive widget\n",
    "interactive_plot= interactive(update_plot, hidden_layer_size=hidden_layer_size_slider)\n",
    "\n",
    "#Display the widgets\n",
    "display(interactive_plot)\n",
    "\n"
   ]
  },
  {
   "cell_type": "code",
   "execution_count": null,
   "id": "8ca20c5f-242c-4fa9-a6e1-3b925554c500",
   "metadata": {},
   "outputs": [],
   "source": []
  }
 ],
 "metadata": {
  "kernelspec": {
   "display_name": "Python 3 (ipykernel)",
   "language": "python",
   "name": "python3"
  },
  "language_info": {
   "codemirror_mode": {
    "name": "ipython",
    "version": 3
   },
   "file_extension": ".py",
   "mimetype": "text/x-python",
   "name": "python",
   "nbconvert_exporter": "python",
   "pygments_lexer": "ipython3",
   "version": "3.11.9"
  }
 },
 "nbformat": 4,
 "nbformat_minor": 5
}
